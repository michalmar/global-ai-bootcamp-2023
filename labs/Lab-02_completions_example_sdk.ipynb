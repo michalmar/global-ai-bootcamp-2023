{
  "cells": [
    {
      "cell_type": "markdown",
      "source": [
        "# Lab 02 - Azure OpenAI - Create a Completion\n",
        "\n",
        "Given a prompt, the model will return one or more predicted completions, and can also return the probabilities of alternative tokens at each position."
      ],
      "metadata": {},
      "id": "011db2ec"
    },
    {
      "cell_type": "code",
      "source": [
        "import json\n",
        "import openai\n",
        "import os"
      ],
      "outputs": [],
      "execution_count": 15,
      "metadata": {
        "gather": {
          "logged": 1679898849691
        }
      },
      "id": "a92744f4"
    },
    {
      "cell_type": "markdown",
      "source": [
        "### Setup Parameters\n",
        "\n",
        "\n",
        "Here we will load the configurations from _config.json_ file to setup deployment name, openai api base, openai api key and openai api version."
      ],
      "metadata": {},
      "id": "e1966c51"
    },
    {
      "cell_type": "code",
      "source": [
        "# Setting up the deployment name\n",
        "deployment_name = \"text-davinci-003\"\n",
        "\n",
        "# This is set to `azure`\n",
        "openai.api_type = \"azure\"\n",
        "openai.api_version = \"2022-12-01\"\n",
        "\n",
        "# The API key for your Azure OpenAI resource.\n",
        "API_KEY = \"<USE_YOUR_KEY>\"\n",
        "assert API_KEY, \"ERROR: Azure OpenAI Key is missing\"\n",
        "openai.api_key = API_KEY\n",
        "\n",
        "RESOURCE_ENDPOINT = \"https://openai-bootcamp-mma.openai.azure.com/\"\n",
        "assert RESOURCE_ENDPOINT, \"ERROR: Azure OpenAI Endpoint is missing\"\n",
        "assert \"openai.azure.com\" in RESOURCE_ENDPOINT.lower(), \"ERROR: Azure OpenAI Endpoint should be in the form: \\n\\n\\t<your unique endpoint identifier>.openai.azure.com\"\n",
        "openai.api_base = RESOURCE_ENDPOINT"
      ],
      "outputs": [],
      "execution_count": 16,
      "metadata": {
        "gather": {
          "logged": 1679898850433
        }
      },
      "id": "19ae1e36"
    },
    {
      "cell_type": "code",
      "source": [
        "def run_completion(prompt: str, deployment_name: str, temperaure=0.7, max_tokens=100, verbose=False):\n",
        "    try:\n",
        "        # Create a completion for the provided prompt and parameters\n",
        "        # To know more about the parameters, checkout this documentation: https://learn.microsoft.com/en-us/azure/cognitive-services/openai/reference\n",
        "        completion = openai.Completion.create(\n",
        "                        prompt=prompt,\n",
        "                        temperature=temperaure,\n",
        "                        max_tokens=max_tokens,\n",
        "                        top_p=1,\n",
        "                        frequency_penalty=0,\n",
        "                        presence_penalty=0,\n",
        "                        engine=deployment_name)\n",
        "\n",
        "        # print the completion\n",
        "        if (verbose):\n",
        "            print(completion.choices[0].text.strip(\" \\n\"))\n",
        "        \n",
        "        return completion.choices[0].text\n",
        "        \n",
        "        # Here indicating if the response is filtered\n",
        "        if completion.choices[0].finish_reason == \"content_filter\":\n",
        "            print(\"The generated content is filtered.\")\n",
        "            \n",
        "    except openai.error.APIError as e:\n",
        "        # Handle API error here, e.g. retry or log\n",
        "        print(f\"OpenAI API returned an API Error: {e}\")\n",
        "\n",
        "    except openai.error.AuthenticationError as e:\n",
        "        # Handle Authentication error here, e.g. invalid API key\n",
        "        print(f\"OpenAI API returned an Authentication Error: {e}\")\n",
        "\n",
        "    except openai.error.APIConnectionError as e:\n",
        "        # Handle connection error here\n",
        "        print(f\"Failed to connect to OpenAI API: {e}\")\n",
        "\n",
        "    except openai.error.InvalidRequestError as e:\n",
        "        # Handle connection error here\n",
        "        print(f\"Invalid Request Error: {e}\")\n",
        "\n",
        "    except openai.error.RateLimitError as e:\n",
        "        # Handle rate limit error\n",
        "        print(f\"OpenAI API request exceeded rate limit: {e}\")\n",
        "\n",
        "    except openai.error.ServiceUnavailableError as e:\n",
        "        # Handle Service Unavailable error\n",
        "        print(f\"Service Unavailable: {e}\")\n",
        "\n",
        "    except openai.error.Timeout as e:\n",
        "        # Handle request timeout\n",
        "        print(f\"Request timed out: {e}\")"
      ],
      "outputs": [],
      "execution_count": 32,
      "metadata": {
        "gather": {
          "logged": 1679900585545
        }
      },
      "id": "b15862a1"
    },
    {
      "cell_type": "code",
      "source": [
        "# Give your prompt here\r\n",
        "prompt = \"Hello world\"\r\n",
        "\r\n",
        "run_completion(prompt, deployment_name)"
      ],
      "outputs": [
        {
          "output_type": "execute_result",
          "execution_count": 18,
          "data": {
            "text/plain": "\"Hello! It's great to meet you.\""
          },
          "metadata": {}
        }
      ],
      "execution_count": 18,
      "metadata": {
        "gather": {
          "logged": 1679898851010
        }
      },
      "id": "b9be87b2"
    },
    {
      "cell_type": "markdown",
      "source": [
        "# Exercises for several use cases  \r\n",
        "1. Summarize Text  \r\n",
        "2. Classify Text  \r\n",
        "3. Generate New Product Names"
      ],
      "metadata": {
        "nteract": {
          "transient": {
            "deleting": false
          }
        }
      },
      "id": "459b0280-693a-422b-826a-7b9299327ec9"
    },
    {
      "cell_type": "markdown",
      "source": [
        "## Summarize Text  \r\n",
        "#### Challenge  \r\n",
        "Summarize text by adding a 'tl;dr:' to the end of a text passage. Notice how the model understands how to perform a number of tasks with no additional instructions. You can experiment with more descriptive prompts than tl;dr to modify the model’s behavior and customize the summarization you receive(3).  \r\n",
        "\r\n",
        "```\r\n",
        "Recent work has demonstrated substantial gains on many NLP tasks and benchmarks by pre-training on a large corpus of text followed by fine-tuning on a specific task. While typically task-agnostic in architecture, this method still requires task-specific fine-tuning datasets of thousands or tens of thousands of examples. By contrast, humans can generally perform a new language task from only a few examples or from simple instructions - something which current NLP systems still largely struggle to do. Here we show that scaling up language models greatly improves task-agnostic, few-shot performance, sometimes even reaching competitiveness with prior state-of-the-art fine-tuning approaches. \r\n",
        "\r\n",
        "\r\n",
        "\r\n",
        "Tl;dr\r\n",
        "```"
      ],
      "metadata": {
        "nteract": {
          "transient": {
            "deleting": false
          }
        }
      },
      "id": "be37eb0a-f24c-4c8b-a920-1616424c50dc"
    },
    {
      "cell_type": "code",
      "source": [
        "prompt = \"Recent work has demonstrated substantial gains on many NLP tasks and benchmarks by pre-training on a large corpus of text followed by fine-tuning on a specific task. While typically task-agnostic in architecture, this method still requires task-specific fine-tuning datasets of thousands or tens of thousands of examples. By contrast, humans can generally perform a new language task from only a few examples or from simple instructions - something which current NLP systems still largely struggle to do. Here we show that scaling up language models greatly improves task-agnostic, few-shot performance, sometimes even reaching competitiveness with prior state-of-the-art fine-tuning approaches.\\n\\nTl;dr\"\r\n",
        "\r\n",
        "# #Setting a few additional, typical parameters during API Call\r\n",
        "# response = openai.Completion.create(\r\n",
        "#   engine=model,\r\n",
        "#   prompt=prompt,\r\n",
        "#   temperature=0.7,\r\n",
        "#   max_tokens=60,\r\n",
        "#   top_p=1,\r\n",
        "#   frequency_penalty=0,\r\n",
        "#   presence_penalty=0,\r\n",
        "#   stop=None)\r\n",
        "\r\n",
        "# print(response)\r\n",
        "\r\n",
        "run_completion(prompt=prompt, deployment_name=deployment_name)"
      ],
      "outputs": [
        {
          "output_type": "execute_result",
          "execution_count": 19,
          "data": {
            "text/plain": "': We show that scaling up language models improves task-agnostic, few-shot performance, and in some cases surpasses prior state-of-the-art fine-tuning approaches. This suggests that current NLP systems can better imitate human ability to quickly learn new tasks from only a few examples.'"
          },
          "metadata": {}
        }
      ],
      "execution_count": 19,
      "metadata": {
        "jupyter": {
          "source_hidden": false,
          "outputs_hidden": false
        },
        "nteract": {
          "transient": {
            "deleting": false
          }
        },
        "gather": {
          "logged": 1679898855425
        }
      },
      "id": "b708e2be-50c6-4b63-9ecd-53dc531ed5f4"
    },
    {
      "cell_type": "markdown",
      "source": [
        "## Classify Text  \r\n",
        "#### Challenge  \r\n",
        "Classify items into categories provided at inference time. In the following example we provide both the categories and the text to classify in the prompt(*playground_reference). \r\n",
        "\r\n",
        "```\r\n",
        "Customer Inquiry: Hello, one of the keys on my laptop keyboard broke recently and I'll need a replacement:\r\n",
        "\r\n",
        "Classified category:\r\n",
        "```\r\n"
      ],
      "metadata": {
        "nteract": {
          "transient": {
            "deleting": false
          }
        }
      },
      "id": "fd197fc4-ba3d-4461-9dac-02157a00d9a1"
    },
    {
      "cell_type": "code",
      "source": [
        "prompt = \"Classify the following inquiry into one of the following: categories: [Pricing, Hardware Support, Software Support]\\n\\ninquiry: Hello, one of the keys on my laptop keyboard broke recently and I'll need a replacement:\\n\\nClassified category:\"\r\n",
        "\r\n",
        "\r\n",
        "run_completion(prompt=prompt, deployment_name=deployment_name)"
      ],
      "outputs": [
        {
          "output_type": "execute_result",
          "execution_count": 23,
          "data": {
            "text/plain": "'Hardware Support'"
          },
          "metadata": {}
        }
      ],
      "execution_count": 23,
      "metadata": {
        "jupyter": {
          "source_hidden": false,
          "outputs_hidden": false
        },
        "nteract": {
          "transient": {
            "deleting": false
          }
        },
        "gather": {
          "logged": 1679899071047
        }
      },
      "id": "17f1e192-23b6-4127-bd4c-59c80fe9eec1"
    },
    {
      "cell_type": "markdown",
      "source": [
        "## Generate New Product Names\r\n",
        "#### Challenge\r\n",
        "Create product names from examples words. Here we include in the prompt information about the product we are going to generate names for. We also provide a similar example to show the pattern we wish to receive. We have also set the temperature value high to increase randomness and more innovative responses.\r\n",
        "\r\n",
        "```\r\n",
        "Product description: A home milkshake maker\r\n",
        "Seed words: fast, healthy, compact.\r\n",
        "Product names: HomeShaker, Fit Shaker, QuickShake, Shake Maker\r\n",
        "\r\n",
        "Product description: A pair of shoes that can fit any foot size.\r\n",
        "Seed words: adaptable, fit, omni-fit.\r\n",
        "```"
      ],
      "metadata": {
        "nteract": {
          "transient": {
            "deleting": false
          }
        }
      },
      "id": "9f69c876-ce53-4de3-97f1-111f2ed2a720"
    },
    {
      "cell_type": "code",
      "source": [
        "prompt = \"Product description: A home milkshake maker\\nSeed words: fast, healthy, compact.\\nProduct names: HomeShaker, Fit Shaker, QuickShake, Shake Maker\\n\\nProduct description: A pair of shoes that can fit any foot size.\\nSeed words: adaptable, fit, omni-fit.\"\r\n",
        "\r\n",
        "run_completion(prompt=prompt, deployment_name=deployment_name)"
      ],
      "outputs": [
        {
          "output_type": "execute_result",
          "execution_count": 24,
          "data": {
            "text/plain": "'Product names: AdaptaFit, OmniFit, PerfectFit, FitPlus.'"
          },
          "metadata": {}
        }
      ],
      "execution_count": 24,
      "metadata": {
        "jupyter": {
          "source_hidden": false,
          "outputs_hidden": false
        },
        "nteract": {
          "transient": {
            "deleting": false
          }
        },
        "gather": {
          "logged": 1679899075118
        }
      },
      "id": "3ba3b882-62f3-4e7a-8486-5632a54d400c"
    },
    {
      "cell_type": "markdown",
      "source": [
        "## Generate product description\r\n",
        "\r\n",
        "#### Challenge\r\n",
        "Create product (fragnance) descriptions from ingredients. We have also set the temperature value high to increase randomness and more innovative responses.\r\n",
        "\r\n",
        "Prompt:\r\n",
        "```\r\n",
        "Generate new product description from seed words.\r\n",
        "\r\n",
        "Seed words: amber, plausible, fragrance, perfume, bergamot, cashmeran, black pepper\r\n",
        "Product description:\r\n",
        "```"
      ],
      "metadata": {
        "nteract": {
          "transient": {
            "deleting": false
          }
        }
      },
      "id": "c5100915-a1a0-4cb3-ac85-02bf1c048bcd"
    },
    {
      "cell_type": "code",
      "source": [
        "prompt = '''\r\n",
        "Generate new product description from seed words.\r\n",
        "\r\n",
        "Seed words: amber, plausible, fragrance, perfume, bergamot, cashmeran, black pepper\r\n",
        "Product description:\r\n",
        "'''\r\n",
        "\r\n",
        "run_completion(prompt=prompt, deployment_name=deployment_name, temperaure=0.2)"
      ],
      "outputs": [
        {
          "output_type": "execute_result",
          "execution_count": 27,
          "data": {
            "text/plain": "'Introducing our new Amber Plausible Fragrance Perfume, a luxurious blend of bergamot, cashmeran, and black pepper. This exquisite scent is perfect for any occasion, and will leave you feeling confident and refreshed. With its warm and inviting aroma, this perfume is sure to become your signature scent.'"
          },
          "metadata": {}
        }
      ],
      "execution_count": 27,
      "metadata": {
        "jupyter": {
          "source_hidden": false,
          "outputs_hidden": false
        },
        "nteract": {
          "transient": {
            "deleting": false
          }
        },
        "gather": {
          "logged": 1679899232310
        }
      },
      "id": "f7e5d9ca-b43b-40dd-a579-ec787f2ca10e"
    },
    {
      "cell_type": "markdown",
      "source": [
        "Adding additional information to prompt to change behavior.\r\n",
        "\r\n",
        "Prompt:\r\n",
        "```\r\n",
        "As professional marketing specialist in retail and cosmetics company, generate new product description which is vibrant, uncommon, novel. \r\n",
        "\r\n",
        "Target group: young women between 15 and 25 year living in city. \r\n",
        "\r\n",
        "Seed words: amber, plausible, fragrance, perfume, bergamot, cashmeran, black pepper\r\n",
        "Product description:\r\n",
        "```"
      ],
      "metadata": {
        "nteract": {
          "transient": {
            "deleting": false
          }
        }
      },
      "id": "0fb00643-9766-432c-bc5d-26dc1997391f"
    },
    {
      "cell_type": "code",
      "source": [
        "prompt = '''\r\n",
        "As professional marketing specialist in retail and cosmetics company, generate new product description which is vibrant, uncommon, novel. \r\n",
        "\r\n",
        "Target group: young women between 15 and 25 year living in city. \r\n",
        "\r\n",
        "Seed words: amber, plausible, fragrance, perfume, bergamot, cashmeran, black pepper\r\n",
        "Product description:\r\n",
        "'''\r\n",
        "\r\n",
        "run_completion(prompt=prompt, deployment_name=deployment_name, temperaure=1.0, max_tokens=200)"
      ],
      "outputs": [
        {
          "output_type": "execute_result",
          "execution_count": 30,
          "data": {
            "text/plain": "'Introducing Amber Bliss – an enchanting perfume that will transform your aura! Infused with a sparkling blend of bergamot, cashmeran and black pepper, this highly plausible fragrance provides an energizing and vivacious sparkle to your everyday life. Soft and subtle, yet boldly vibrant, Amber Bliss is perfect for outgoing, young women who love to stand out and make their mark on the city!'"
          },
          "metadata": {}
        }
      ],
      "execution_count": 30,
      "metadata": {
        "jupyter": {
          "source_hidden": false,
          "outputs_hidden": false
        },
        "nteract": {
          "transient": {
            "deleting": false
          }
        },
        "gather": {
          "logged": 1679899373563
        }
      },
      "id": "8f6afbf6-4691-4db5-abac-fcb283e44b49"
    },
    {
      "cell_type": "markdown",
      "source": [
        "## Generate email responses\r\n",
        "\r\n",
        "#### Challenge\r\n",
        "\r\n",
        "Create email responses or communication using appropriate information and tone.\r\n",
        "\r\n",
        "Prompt:\r\n",
        "```\r\n",
        "Okno údržby je naplánováno na 14. února od 14:00 do 15:00, linka bude funkční, ale očekávají se odstávky.\r\n",
        "    Napište formální mail zákaznikům\r\n",
        "    - Nabídněte pomoc v rámci info@operations.cz, ne telefonicky\r\n",
        "    - Požádejte o prominutí\r\n",
        "    - udělejte vtip o IT\r\n",
        "    Mail:\r\n",
        "```"
      ],
      "metadata": {
        "nteract": {
          "transient": {
            "deleting": false
          }
        }
      },
      "id": "526fe88f-ad22-4040-98d1-e7bb30b81f49"
    },
    {
      "cell_type": "code",
      "source": [
        "prompt = '''\r\n",
        "Okno údržby je naplánováno na 14. února od 14:00 do 15:00, linka bude funkční, ale očekávají se odstávky.\r\n",
        "    \r\n",
        "Napište formální mail zákaznikům\r\n",
        "    - Nabídněte pomoc v rámci info@operations.cz, ne telefonicky\r\n",
        "    - Požádejte o prominutí\r\n",
        "    - udělejte vtip o IT\r\n",
        "\r\n",
        "Mail:\r\n",
        "'''\r\n",
        "\r\n",
        "r = run_completion(prompt=prompt, deployment_name=deployment_name, temperaure=1.0, max_tokens=500)\r\n",
        "[print(x) for x in r.split(\"\\n\")]"
      ],
      "outputs": [
        {
          "output_type": "stream",
          "name": "stdout",
          "text": "\nVážení zákazníci,\n\n14. února od 14:00 do 15:00 se uskuteční naše pravidelné okno údržby. Během této doby bude linka funkční, i když může docházet ke krátkým odstávkám.\n\nOmlouváme se za vzniklé potíže a nabízíme Vám, jako náhradu, informační kanál info@operations.cz.\n\nIT je jako kuchař: občas se musíte smát špatnému oddílu.\n\nS pozdravem,\nTým Operations\n"
        },
        {
          "output_type": "execute_result",
          "execution_count": 39,
          "data": {
            "text/plain": "[None, None, None, None, None, None, None, None, None, None, None]"
          },
          "metadata": {}
        }
      ],
      "execution_count": 39,
      "metadata": {
        "jupyter": {
          "source_hidden": false,
          "outputs_hidden": false
        },
        "nteract": {
          "transient": {
            "deleting": false
          }
        },
        "gather": {
          "logged": 1679900798142
        }
      },
      "id": "137f8537-1a39-4a51-a28e-16ec59a264c8"
    },
    {
      "cell_type": "markdown",
      "source": [
        "## Extract information\r\n",
        "\r\n",
        "#### Challenge\r\n",
        "\r\n",
        "Extract information from communication - the communication can be call transcription, email communication, etc. We can also define the desired output.\r\n",
        "\r\n",
        "Prompt:\r\n",
        "```\r\n",
        "Extrahuj následující informace z telefonní komunikace níže:\r\n",
        "    1. Důvod hovoru (klíč: reason)\r\n",
        "    2. Jména účastníků hovoru jako pole (klíč: names)\r\n",
        "    3. Krátké shrnutí hovoru (klíč: summary)\r\n",
        "    Prosím o odpověď v JSON formát s použitím klíču výše.\r\n",
        "    Formátuj výstup jako JSON object nazvaný \"results\" a výstup udělej v Markdown.\r\n",
        "    Telefonní komunikace:\r\n",
        "    Dobrý den, pane Štěpánek. Jsem z banky a potřebuji se s vámi poradit ohledně vašeho účtu.\r\n",
        "    Máte nějaké dotazy?\r\n",
        "    Štěpánek: Ano, pane bankéři. Mám dotaz ohledně výše úvěru.\r\n",
        "    Bankéř: Ano, pane Štěpánek. Jaký úvěr máte na mysli?\r\n",
        "    Štěpánek: Já bych chtěl zvýšit úvěr na bydlení.\r\n",
        "    Bankéř: Ano, pane Štěpánek. Jakou máte v současné době výši úvěru?\r\n",
        "    Štěpánek: Mám úvěr na bydlení v hodnotě 1 000 000 Kč.\r\n",
        "    Bankéř: Ano, pane Štěpánek. Jakou výši byste chtěl zvýšit?\r\n",
        "    Štěpánek: Chtěl bych zvýšit úvěr na bydlení na 1 500 000 Kč.\r\n",
        "```"
      ],
      "metadata": {
        "nteract": {
          "transient": {
            "deleting": false
          }
        }
      },
      "id": "50268daf-e1b8-48d0-a0ad-1607510747c9"
    },
    {
      "cell_type": "code",
      "source": [
        "prompt = '''\r\n",
        "    Extrahuj následující informace z telefonní komunikace níže:\r\n",
        "\r\n",
        "    1. Důvod hovoru (klíč: reason)\r\n",
        "    2. Jména účastníků hovoru jako pole (klíč: names)\r\n",
        "    3. Krátké shrnutí hovoru (klíč: summary)\r\n",
        "\r\n",
        "    Prosím o odpověď v JSON formát s použitím klíču výše.\r\n",
        "\r\n",
        "    Formátuj výstup jako JSON object nazvaný \"results\" a výstup udělej v Markdown.\r\n",
        "\r\n",
        "    Telefonní komunikace:\r\n",
        "    Dobrý den, pane Štěpánek. Jsem z banky a potřebuji se s vámi poradit ohledně vašeho účtu.\r\n",
        "    Máte nějaké dotazy?\r\n",
        "    Štěpánek: Ano, pane bankéři. Mám dotaz ohledně výše úvěru.\r\n",
        "    Bankéř: Ano, pane Štěpánek. Jaký úvěr máte na mysli?\r\n",
        "    Štěpánek: Já bych chtěl zvýšit úvěr na bydlení.\r\n",
        "    Bankéř: Ano, pane Štěpánek. Jakou máte v současné době výši úvěru?\r\n",
        "    Štěpánek: Mám úvěr na bydlení v hodnotě 1 000 000 Kč.\r\n",
        "    Bankéř: Ano, pane Štěpánek. Jakou výši byste chtěl zvýšit?\r\n",
        "    Štěpánek: Chtěl bych zvýšit úvěr na bydlení na 1 500 000 Kč.\r\n",
        "'''\r\n",
        "\r\n",
        "r = run_completion(prompt=prompt, deployment_name=deployment_name, temperaure=1.0, max_tokens=500)\r\n",
        "[print(x) for x in r.split(\"\\n\")]"
      ],
      "outputs": [
        {
          "output_type": "stream",
          "name": "stdout",
          "text": "\nResults: \n    {\n        'reason': 'Konzultace ohledně úvěru na bydlení', \n        'names': ['Štěpánek', 'Bankéř'],\n        'summary': 'Štěpánek požádal o zvýšení úvěru na bydlení z 1 000 000 Kč na 1 500 000 Kč.'\n    }\n"
        },
        {
          "output_type": "execute_result",
          "execution_count": 40,
          "data": {
            "text/plain": "[None, None, None, None, None, None, None]"
          },
          "metadata": {}
        }
      ],
      "execution_count": 40,
      "metadata": {
        "jupyter": {
          "source_hidden": false,
          "outputs_hidden": false
        },
        "nteract": {
          "transient": {
            "deleting": false
          }
        },
        "gather": {
          "logged": 1679900981166
        }
      },
      "id": "36266d1f-f85d-478d-9972-caba203c194f"
    }
  ],
  "metadata": {
    "kernelspec": {
      "name": "python3",
      "language": "python",
      "display_name": "Python 3 (ipykernel)"
    },
    "language_info": {
      "name": "python",
      "version": "3.8.5",
      "mimetype": "text/x-python",
      "codemirror_mode": {
        "name": "ipython",
        "version": 3
      },
      "pygments_lexer": "ipython3",
      "nbconvert_exporter": "python",
      "file_extension": ".py"
    },
    "microsoft": {
      "ms_spell_check": {
        "ms_spell_check_language": "en"
      },
      "host": {
        "AzureML": {
          "notebookHasBeenCompleted": true
        }
      }
    },
    "kernel_info": {
      "name": "python3"
    },
    "nteract": {
      "version": "nteract-front-end@1.0.0"
    }
  },
  "nbformat": 4,
  "nbformat_minor": 5
}