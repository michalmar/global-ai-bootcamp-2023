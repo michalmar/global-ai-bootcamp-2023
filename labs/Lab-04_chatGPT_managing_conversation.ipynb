{
  "cells": [
    {
      "cell_type": "markdown",
      "source": [
        "# Lab 04 - ChatGPT - Managing conversation history with CHatGPT\n",
        "This sample notebook demonstrates a couple of simple patterns you can use for managing the prompts and conversation history with the ChatGPT model."
      ],
      "metadata": {}
    },
    {
      "cell_type": "code",
      "source": [
        "pip install tiktoken"
      ],
      "outputs": [],
      "execution_count": null,
      "metadata": {
        "jupyter": {
          "source_hidden": false,
          "outputs_hidden": false
        },
        "nteract": {
          "transient": {
            "deleting": false
          }
        },
        "gather": {
          "logged": 1679897884348
        }
      }
    },
    {
      "cell_type": "code",
      "source": [
        "import os\n",
        "import openai\n",
        "import json"
      ],
      "outputs": [],
      "execution_count": null,
      "metadata": {
        "gather": {
          "logged": 1679897794042
        }
      }
    },
    {
      "cell_type": "code",
      "source": [
        "# Setting up the deployment name\n",
        "deployment_name = \"chatgpt-turbo\"\n",
        "\n",
        "# This is set to `azure`\n",
        "openai.api_type = \"azure\"\n",
        "openai.api_version = \"2022-12-01\"\n",
        "\n",
        "# The API key for your Azure OpenAI resource.\n",
        "API_KEY = \"<USE_YOUR_KEY>\"\n",
        "assert API_KEY, \"ERROR: Azure OpenAI Key is missing\"\n",
        "openai.api_key = API_KEY\n",
        "\n",
        "RESOURCE_ENDPOINT = \"https://openai-bootcamp-mma.openai.azure.com/\"\n",
        "assert RESOURCE_ENDPOINT, \"ERROR: Azure OpenAI Endpoint is missing\"\n",
        "assert \"openai.azure.com\" in RESOURCE_ENDPOINT.lower(), \"ERROR: Azure OpenAI Endpoint should be in the form: \\n\\n\\t<your unique endpoint identifier>.openai.azure.com\"\n",
        "openai.api_base = RESOURCE_ENDPOINT"
      ],
      "outputs": [],
      "execution_count": null,
      "metadata": {
        "gather": {
          "logged": 1679897999742
        }
      }
    },
    {
      "cell_type": "markdown",
      "source": [
        "## 1.0 Create the system message for ChatGPT"
      ],
      "metadata": {}
    },
    {
      "cell_type": "code",
      "source": [
        "base_system_message = \"\"\"\n",
        "You are a marketing writing assistant. You help come up with creative content ideas and content like marketing emails, blog posts, tweets, ad copy, listicles, product FAQs, and product descriptions. \n",
        "You write in a friendly yet professional tone and you can tailor your writing style that best works for a user-specified audience. \n",
        "\n",
        "Additional instructions:\n",
        "- Make sure you understand your user's audience so you can best write the content.\n",
        "- Ask clarifying questions when you need additional information. Examples include asking about the audience or medium for the content.\n",
        "- Don't write any content that could be harmful.\n",
        "- Don't write any content that could be offensive or inappropriate.\n",
        "- Don't write any content that speaks poorly of any product or company.\n",
        "\"\"\"\n",
        "\n",
        "system_message = f\"<|im_start|>system\\n{base_system_message.strip()}\\n<|im_end|>\"\n",
        "print(system_message)"
      ],
      "outputs": [],
      "execution_count": null,
      "metadata": {
        "gather": {
          "logged": 1679898000485
        }
      }
    },
    {
      "cell_type": "markdown",
      "source": [
        "## 2.0 Define helper functions\n",
        "\n"
      ],
      "metadata": {}
    },
    {
      "cell_type": "code",
      "source": [
        "# Defining a function to create the prompt from the system message and the messages\n",
        "# The function assumes `messages` is a list of dictionaries with `sender` and `text` keys\n",
        "# Example: messages = [{\"sender\": \"user\", \"text\": \"I want to write a blog post about my company.\"}]\n",
        "def create_prompt(system_message, messages):\n",
        "    prompt = system_message\n",
        "    for message in messages:\n",
        "        prompt += f\"\\n<|im_start|>{message['sender']}\\n{ message['text']}\\n<|im_end|>\"\n",
        "    prompt += \"\\n<|im_start|>assistant\\n\"\n",
        "    return prompt"
      ],
      "outputs": [],
      "execution_count": null,
      "metadata": {
        "gather": {
          "logged": 1679898001258
        }
      }
    },
    {
      "cell_type": "code",
      "source": [
        "import tiktoken \n",
        "\n",
        "# Defining a function to estimate the number of tokens in a prompt\n",
        "def estimate_tokens(prompt):\n",
        "    cl100k_base = tiktoken.get_encoding(\"cl100k_base\") \n",
        "\n",
        "    enc = tiktoken.Encoding( \n",
        "        name=\"chatgpt\",  \n",
        "        pat_str=cl100k_base._pat_str, \n",
        "        mergeable_ranks=cl100k_base._mergeable_ranks, \n",
        "        special_tokens={ \n",
        "            **cl100k_base._special_tokens, \n",
        "            \"<|im_start|>\": 100264, \n",
        "            \"<|im_end|>\": 100265\n",
        "        } \n",
        "    ) \n",
        "\n",
        "    tokens = enc.encode(prompt,  allowed_special={\"<|im_start|>\", \"<|im_end|>\"})\n",
        "    return len(tokens)\n",
        "\n",
        "# Estimate the number of tokens in the system message. Tokens in the system message will be sent in every request.\n",
        "token_count = estimate_tokens(system_message)\n",
        "print(\"Token count: {}\".format(token_count))"
      ],
      "outputs": [],
      "execution_count": null,
      "metadata": {
        "gather": {
          "logged": 1679898002371
        }
      }
    },
    {
      "cell_type": "code",
      "source": [
        "# Defining a function to send the prompt to the ChatGPT model\n",
        "def send_message(prompt, model_name, max_response_tokens=500):\n",
        "    response = openai.Completion.create(\n",
        "        engine=model_name,\n",
        "        prompt=prompt,\n",
        "        temperature=0.5,\n",
        "        max_tokens=max_response_tokens,\n",
        "        top_p=0.9,\n",
        "        frequency_penalty=0,\n",
        "        presence_penalty=0,\n",
        "        stop=['<|im_end|>']\n",
        "    )\n",
        "    return response['choices'][0]['text'].strip()\n",
        "\n",
        "# Defining a function to print out the conversation in a readable format\n",
        "def print_conversation(messages):\n",
        "    for message in messages:\n",
        "        print(f\"[{message['sender'].upper()}]\")\n",
        "        print(message['text'])\n",
        "        print()"
      ],
      "outputs": [],
      "execution_count": null,
      "metadata": {
        "gather": {
          "logged": 1679898002670
        }
      }
    },
    {
      "cell_type": "markdown",
      "source": [
        "## 3.0 Start the conversation"
      ],
      "metadata": {}
    },
    {
      "cell_type": "code",
      "source": [
        "# This is the first message that will be sent to the model. Feel free to update this.\n",
        "user_message = \"I want to write a blog post about the impact of AI on the future of work.\""
      ],
      "outputs": [],
      "execution_count": null,
      "metadata": {
        "gather": {
          "logged": 1679898003099
        }
      }
    },
    {
      "cell_type": "code",
      "source": [
        "# Create the list of messages. Sender can be either \"user\" or \"assistant\"\n",
        "messages = [{\"sender\": \"user\", \"text\": user_message}]\n",
        "\n",
        "# Create the full prompt\n",
        "prompt = create_prompt(system_message, messages)\n",
        "\n",
        "print(prompt)"
      ],
      "outputs": [],
      "execution_count": null,
      "metadata": {
        "gather": {
          "logged": 1679898003580
        }
      }
    },
    {
      "cell_type": "code",
      "source": [
        "token_count = estimate_tokens(prompt)\n",
        "print(f\"Token count: {token_count}\")"
      ],
      "outputs": [],
      "execution_count": null,
      "metadata": {
        "gather": {
          "logged": 1679898004172
        }
      }
    },
    {
      "cell_type": "code",
      "source": [
        "max_response_tokens = 500\n",
        "\n",
        "response = send_message(prompt, deployment_name, max_response_tokens)\n",
        "messages.append({\"sender\": \"assistant\", \"text\": response})\n",
        "\n",
        "print_conversation(messages)"
      ],
      "outputs": [],
      "execution_count": null,
      "metadata": {
        "gather": {
          "logged": 1679898005238
        }
      }
    },
    {
      "cell_type": "markdown",
      "source": [
        "## 4.0 Continue the conversation\n",
        "\n",
        "When working with the ChatGPT model, it's your responsibity to make sure you stay within the token limits of the model. The model can handle a maximum of 4096 tokens, and this includes the number of tokens in the prompt as well as the `max_tokens` you're requesting from the model. If you exceed these limits, the model will return an error.\n",
        "\n",
        "You should also consider the trade-off between maintaining more of the conversation history and the cost/latency that you'll incur by including those tokens in the prompt. Shorter prompts are cheaper and faster. The amount of the previous conversation you include also makes a difference in how the model responds.\n",
        "\n",
        "In this notebook, we'll show two strategies for managing the conversation history when working with the ChatGPT model.\n",
        "- Option 1: Keep the conversation within a given token limit\n",
        "- Option 2: Keep the conversation within a given number of turns"
      ],
      "metadata": {}
    },
    {
      "cell_type": "markdown",
      "source": [
        "### Option 1: Keep the conversation within a given token limit\n",
        "\n",
        "`overall_max_tokens` is the maximum number of tokens that you want to include in the prompt. Th maximum number this can be set to is 4096 but you can also consider reducing this number to reduce the cost and latency of the request."
      ],
      "metadata": {}
    },
    {
      "cell_type": "code",
      "source": [
        "overall_max_tokens = 4096\n",
        "prompt_max_tokens = overall_max_tokens - max_response_tokens"
      ],
      "outputs": [],
      "execution_count": null,
      "metadata": {
        "gather": {
          "logged": 1679898018760
        }
      }
    },
    {
      "cell_type": "markdown",
      "source": [
        "You can continue the conversation below by editing the user_message and running the cell as many times as you would like."
      ],
      "metadata": {}
    },
    {
      "cell_type": "code",
      "source": [
        "user_message = \"The target audience for the blog post should be business leaders working in the tech industry.\"\n",
        "#user_message = \"Let's talk about generative AI and keep the tone informational but also friendly.\"\n",
        "#user_message = \"Show me a few more examples\"\n",
        "messages.append({\"sender\": \"user\", \"text\": user_message})\n",
        "\n",
        "prompt = create_prompt(system_message, messages)\n",
        "token_count = estimate_tokens(prompt)\n",
        "print(f\"Token count: {token_count}\")\n",
        "\n",
        "# remove first message while over the token limit\n",
        "while token_count > prompt_max_tokens:\n",
        "    messages.pop(0)\n",
        "    prompt = create_prompt(system_message, messages)\n",
        "    token_count = estimate_tokens(prompt)\n",
        "\n",
        "response = send_message(prompt, deployment_name, max_response_tokens)\n",
        "\n",
        "messages.append({\"sender\": \"assistant\", \"text\": response})\n",
        "print_conversation(messages)"
      ],
      "outputs": [],
      "execution_count": null,
      "metadata": {
        "gather": {
          "logged": 1679898026353
        }
      }
    },
    {
      "cell_type": "markdown",
      "source": [
        "### Option 2: Keep the conversation within a given number of turns"
      ],
      "metadata": {}
    },
    {
      "cell_type": "code",
      "source": [
        "max_messages = 10\n",
        "\n",
        "overall_max_tokens = 4096\n",
        "prompt_max_tokens = overall_max_tokens - max_response_tokens"
      ],
      "outputs": [],
      "execution_count": null,
      "metadata": {
        "gather": {
          "logged": 1679898032331
        }
      }
    },
    {
      "cell_type": "markdown",
      "source": [
        "You can continue the conversation below by editing the user_message and running the cell as many times as you would like."
      ],
      "metadata": {}
    },
    {
      "cell_type": "code",
      "source": [
        "user_message = \"Make the post about generative AI aimed at business leaders who have some knowledge of the technology.\"\n",
        "messages.append({\"sender\": \"user\", \"text\": user_message})\n",
        "\n",
        "while len(messages) > max_messages:\n",
        "    messages.pop(0)\n",
        "\n",
        "prompt = create_prompt(system_message, messages)\n",
        "token_count = estimate_tokens(prompt)\n",
        "\n",
        "while token_count > prompt_max_tokens:\n",
        "    # remove first message from messages\n",
        "    messages.pop(0)\n",
        "    prompt = create_prompt(system_message, messages, max_response_tokens)\n",
        "    token_count = estimate_tokens(prompt)\n",
        "\n",
        "response = send_message(prompt, deployment_name)\n",
        "messages.append({\"sender\": \"assistant\", \"text\": response})\n",
        "# print_conversation(messages)\n"
      ],
      "outputs": [],
      "execution_count": null,
      "metadata": {
        "gather": {
          "logged": 1679898040122
        }
      }
    },
    {
      "cell_type": "code",
      "source": [],
      "outputs": [],
      "execution_count": null,
      "metadata": {}
    },
    {
      "cell_type": "code",
      "source": [],
      "outputs": [],
      "execution_count": null,
      "metadata": {
        "jupyter": {
          "source_hidden": false,
          "outputs_hidden": false
        },
        "nteract": {
          "transient": {
            "deleting": false
          }
        }
      }
    }
  ],
  "metadata": {
    "kernelspec": {
      "name": "python3",
      "language": "python",
      "display_name": "Python 3 (ipykernel)"
    },
    "language_info": {
      "name": "python",
      "version": "3.8.5",
      "mimetype": "text/x-python",
      "codemirror_mode": {
        "name": "ipython",
        "version": 3
      },
      "pygments_lexer": "ipython3",
      "nbconvert_exporter": "python",
      "file_extension": ".py"
    },
    "vscode": {
      "interpreter": {
        "hash": "fc180f703c9255d3d630e6d09ed4eb3355d27845db546035ce1b410f2bfa43b7"
      }
    },
    "microsoft": {
      "ms_spell_check": {
        "ms_spell_check_language": "en"
      },
      "host": {
        "AzureML": {
          "notebookHasBeenCompleted": true
        }
      }
    },
    "kernel_info": {
      "name": "python3"
    },
    "nteract": {
      "version": "nteract-front-end@1.0.0"
    }
  },
  "nbformat": 4,
  "nbformat_minor": 2
}